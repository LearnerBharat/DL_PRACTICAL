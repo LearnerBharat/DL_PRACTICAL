{
 "cells": [
  {
   "cell_type": "code",
   "execution_count": null,
   "id": "17793fb0-b63f-42e0-b277-15c91576dea3",
   "metadata": {},
   "outputs": [
    {
     "name": "stderr",
     "output_type": "stream",
     "text": [
      "2024-11-08 08:08:59.542324: I tensorflow/core/util/port.cc:153] oneDNN custom operations are on. You may see slightly different numerical results due to floating-point round-off errors from different computation orders. To turn them off, set the environment variable `TF_ENABLE_ONEDNN_OPTS=0`.\n",
      "2024-11-08 08:08:59.669334: I external/local_xla/xla/tsl/cuda/cudart_stub.cc:32] Could not find cuda drivers on your machine, GPU will not be used.\n",
      "2024-11-08 08:09:00.828071: I external/local_xla/xla/tsl/cuda/cudart_stub.cc:32] Could not find cuda drivers on your machine, GPU will not be used.\n",
      "2024-11-08 08:09:01.521776: E external/local_xla/xla/stream_executor/cuda/cuda_fft.cc:477] Unable to register cuFFT factory: Attempting to register factory for plugin cuFFT when one has already been registered\n",
      "WARNING: All log messages before absl::InitializeLog() is called are written to STDERR\n",
      "E0000 00:00:1731033542.174792   39432 cuda_dnn.cc:8310] Unable to register cuDNN factory: Attempting to register factory for plugin cuDNN when one has already been registered\n",
      "E0000 00:00:1731033542.333768   39432 cuda_blas.cc:1418] Unable to register cuBLAS factory: Attempting to register factory for plugin cuBLAS when one has already been registered\n",
      "2024-11-08 08:09:02.681194: I tensorflow/core/platform/cpu_feature_guard.cc:210] This TensorFlow binary is optimized to use available CPU instructions in performance-critical operations.\n",
      "To enable the following instructions: AVX2 AVX512F AVX512_VNNI FMA, in other operations, rebuild TensorFlow with the appropriate compiler flags.\n"
     ]
    }
   ],
   "source": [
    "import numpy as np\n",
    "import pandas as pd\n",
    "import tensorflow as tf\n",
    "from sklearn.model_selection import train_test_split\n",
    "\n",
    "PATH_TO_DATA = 'http://storage.googleapis.com/download.tensorflow.org/data/ecg.csv'\n",
    "data = pd.read_csv(PATH_TO_DATA, header=None)\n",
    "\n",
    "X_train, X_test = train_test_split(data, test_size=0.2, random_state=42)\n",
    "\n",
    "input_dim = X_train.shape[1]\n",
    "\n",
    "encoder_input = tf.keras.Input(shape=(input_dim,))\n",
    "x = tf.keras.layers.Dense(64, activation='relu')(encoder_input)\n",
    "x = tf.keras.layers.Dense(32, activation='relu')(x)\n",
    "latent = tf.keras.layers.Dense(16, activation='relu')(x)\n",
    "encoder = tf.keras.Model(encoder_input, latent, name=\"encoder\")\n",
    "\n",
    "decoder_input = tf.keras.Input(shape=(16,))\n",
    "x = tf.keras.layers.Dense(32, activation='relu')(decoder_input)\n",
    "x = tf.keras.layers.Dense(64, activation='relu')(x)\n",
    "decoder_output = tf.keras.layers.Dense(input_dim, activation='sigmoid')(x)\n",
    "decoder = tf.keras.Model(decoder_input, decoder_output, name=\"decoder\")\n",
    "\n",
    "autoencoder_input = tf.keras.Input(shape=(input_dim,))\n",
    "encoded = encoder(autoencoder_input)\n",
    "decoded = decoder(encoded)\n",
    "autoencoder = tf.keras.Model(autoencoder_input, decoded, name=\"autoencoder\")\n",
    "\n",
    "optimizer = tf.keras.optimizers.Adam(learning_rate=0.001)\n",
    "autoencoder.compile(optimizer=optimizer, loss='mse')\n",
    "\n",
    "autoencoder.fit(X_train, X_train, epochs=20, batch_size=32, shuffle=True, validation_data=(X_test, X_test))\n",
    "\n",
    "encoded_X_test = encoder.predict(X_test)\n",
    "\n",
    "reconstructions = autoencoder.predict(X_test)\n",
    "mse = np.mean(np.power(X_test - reconstructions, 2), axis=1)\n",
    "\n",
    "threshold = np.mean(mse) + 3 * np.std(mse)\n",
    "\n",
    "anomalies = np.where(mse > threshold)[0]\n",
    "\n",
    "print(\"Indices of anomalies:\", anomalies)"
   ]
  }
 ],
 "metadata": {
  "kernelspec": {
   "display_name": "Python 3 (ipykernel)",
   "language": "python",
   "name": "python3"
  },
  "language_info": {
   "codemirror_mode": {
    "name": "ipython",
    "version": 3
   },
   "file_extension": ".py",
   "mimetype": "text/x-python",
   "name": "python",
   "nbconvert_exporter": "python",
   "pygments_lexer": "ipython3",
   "version": "3.12.3"
  }
 },
 "nbformat": 4,
 "nbformat_minor": 5
}

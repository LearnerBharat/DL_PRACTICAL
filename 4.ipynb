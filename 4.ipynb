{
 "cells": [
  {
   "cell_type": "code",
   "execution_count": null,
   "id": "57d67e86-7efa-4167-9b32-a683ab440245",
   "metadata": {},
   "outputs": [],
   "source": [
    "import numpy as np\n",
    "import tensorflow as tf\n",
    "from tensorflow.keras.preprocessing import text\n",
    "from tensorflow.keras.preprocessing.sequence import pad_sequences\n",
    "from tensorflow.keras.models import Sequential\n",
    "from tensorflow.keras.layers import Embedding, Lambda, Dense\n",
    "from tensorflow.keras.utils import to_categorical\n",
    "\n",
    "corpus = [\n",
    "    'this is a sample sentence',\n",
    "    'another example for training',\n",
    "    'one more sentence to use'\n",
    "]\n",
    "\n",
    "tokenizer = text.Tokenizer()\n",
    "tokenizer.fit_on_texts(corpus)\n",
    "word_index = tokenizer.word_index\n",
    "index_word = {index: word for word, index in word_index.items()}\n",
    "\n",
    "window_size = 2\n",
    "vocab_size = len(word_index) + 1\n",
    "sequences = tokenizer.texts_to_sequences(corpus)\n",
    "\n",
    "X = []\n",
    "y = []\n",
    "for sequence in sequences:\n",
    "    for i in range(window_size, len(sequence) - window_size):\n",
    "        context = sequence[i - window_size:i] + sequence[i + 1:i + window_size + 1]\n",
    "        target = sequence[i]\n",
    "        X.append(context)\n",
    "        y.append(target)\n",
    "\n",
    "X = pad_sequences(X, maxlen=window_size * 2)\n",
    "y = to_categorical(y, num_classes=vocab_size)\n",
    "\n",
    "embedding_dim = 100\n",
    "\n",
    "cbow_model = Sequential([\n",
    "    Embedding(input_dim=vocab_size, output_dim=embedding_dim),\n",
    "    Lambda(lambda x: tf.reduce_mean(x, axis=1)),\n",
    "    Dense(vocab_size, activation='softmax')\n",
    "])\n",
    "\n",
    "cbow_model.compile(loss='categorical_crossentropy', optimizer='adam', metrics=['accuracy'])\n",
    "\n",
    "cbow_model.fit(X, y, epochs=50, batch_size=16)\n",
    "\n",
    "embedding_weights = cbow_model.layers[0].get_weights()[0]\n",
    "\n",
    "for word, index in word_index.items():\n",
    "    print(f\"Word: {word}, Embedding: {embedding_weights[index]}\")"
   ]
  }
 ],
 "metadata": {
  "kernelspec": {
   "display_name": "Python 3 (ipykernel)",
   "language": "python",
   "name": "python3"
  },
  "language_info": {
   "codemirror_mode": {
    "name": "ipython",
    "version": 3
   },
   "file_extension": ".py",
   "mimetype": "text/x-python",
   "name": "python",
   "nbconvert_exporter": "python",
   "pygments_lexer": "ipython3",
   "version": "3.12.3"
  }
 },
 "nbformat": 4,
 "nbformat_minor": 5
}
